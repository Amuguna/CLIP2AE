{
 "cells": [
  {
   "cell_type": "markdown",
   "metadata": {},
   "source": [
    "#### Timedistributed CNN"
   ]
  },
  {
   "cell_type": "code",
   "execution_count": 2,
   "metadata": {},
   "outputs": [],
   "source": [
    "import torch \n",
    "import torch.nn as nn \n",
    "import torch.optim as optim \n",
    "from torch.utils import data"
   ]
  },
  {
   "cell_type": "code",
   "execution_count": 3,
   "metadata": {},
   "outputs": [],
   "source": [
    "class TimeDistributed1(nn.Module):\n",
    "    def __init__(self, layer, frames, *args):\n",
    "        super(TimeDistributed1,self).__init__() \n",
    "    \n",
    "        self.frames = frames\n",
    "        self.layers = nn.ModuleList([layer(*args) for i in range(frames)])\n",
    "    \n",
    "    def forward(self,x):\n",
    "        T,C,H,W = x.size()\n",
    "        output = torch.tensor([])\n",
    "\n",
    "        for i in range(self.frames):\n",
    "            output_frame = self.layers[i](x[i,:,:,:])\n",
    "            output_frame = output_frame.unsqueeze(1)\n",
    "            output = torch.cat((output,output_frame),1)\n",
    "        return output "
   ]
  },
  {
   "cell_type": "code",
   "execution_count": 4,
   "metadata": {},
   "outputs": [],
   "source": [
    "class TimeDistributed2(nn.Module):\n",
    "    def __init__(self,module : nn.Module, batch_first : bool = False):\n",
    "        super(TimeDistributed2,self).__init__() \n",
    "        self.module = module \n",
    "        self.batch_first = batch_first \n",
    "    \n",
    "    def forward(self,x):\n",
    "\n",
    "        if len(x.size()) <= 2 :\n",
    "            return self.module(x)\n",
    "        \n",
    "        #contiguous한 객체로 만든 다음 view 연산 \n",
    "        x_reshape = x.contiguous().view(-1,x.size(-1))\n",
    "        \n",
    "        y = self.module(x_reshape)\n",
    "\n",
    "        if self.batch_first:\n",
    "            y = y.contiguous().view(x.size(0),-1,y.size(-1))\n",
    "        else:\n",
    "            y = y.view(-1,x.siez(1),y.size(-1))\n",
    "        \n",
    "        return y "
   ]
  },
  {
   "cell_type": "code",
   "execution_count": 5,
   "metadata": {},
   "outputs": [],
   "source": [
    "class TimeDistributed(nn.Module):\n",
    "    def __init__(self, layer, time_steps, *args):        \n",
    "        super(TimeDistributed, self).__init__()\n",
    "        \n",
    "        self.layers = nn.ModuleList([layer(*args) for i in range(time_steps)])\n",
    "\n",
    "    def forward(self, x):\n",
    "\n",
    "        batch_size, time_steps, C, H, W = x.size()\n",
    "        output = torch.tensor([])\n",
    "        for i in range(time_steps):\n",
    "          output_t = self.layers[i](x[:, i, :, :, :])\n",
    "          output_t  = y.unsqueeze(1)\n",
    "          output = torch.cat((output, output_t ), 1)\n",
    "        return output"
   ]
  },
  {
   "cell_type": "code",
   "execution_count": 6,
   "metadata": {},
   "outputs": [
    {
     "ename": "SyntaxError",
     "evalue": "positional argument follows keyword argument (855786768.py, line 3)",
     "output_type": "error",
     "traceback": [
      "\u001b[0;36m  Input \u001b[0;32mIn [6]\u001b[0;36m\u001b[0m\n\u001b[0;31m    model = TimeDistributed(nn.Conv2d, time_steps = 100, 1, 8, (3, 3) , 2,   1 ,True)\u001b[0m\n\u001b[0m                                                         ^\u001b[0m\n\u001b[0;31mSyntaxError\u001b[0m\u001b[0;31m:\u001b[0m positional argument follows keyword argument\n"
     ]
    }
   ],
   "source": []
  },
  {
   "cell_type": "code",
   "execution_count": null,
   "metadata": {},
   "outputs": [],
   "source": []
  }
 ],
 "metadata": {
  "interpreter": {
   "hash": "eff65c0def8c12c365a8ff92cc515e5fbadd507d935c66604f35c789f0fc4099"
  },
  "kernelspec": {
   "display_name": "Python 3.8.13 ('CLIP4Clip': conda)",
   "language": "python",
   "name": "python3"
  },
  "language_info": {
   "codemirror_mode": {
    "name": "ipython",
    "version": 3
   },
   "file_extension": ".py",
   "mimetype": "text/x-python",
   "name": "python",
   "nbconvert_exporter": "python",
   "pygments_lexer": "ipython3",
   "version": "3.8.13"
  },
  "orig_nbformat": 4
 },
 "nbformat": 4,
 "nbformat_minor": 2
}
